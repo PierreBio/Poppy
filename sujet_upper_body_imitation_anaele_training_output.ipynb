reward :  0.7158832631049405
current step :  5
episode :  0
reward :  0.0
current step :  10
episode :  0
reward :  0.7172905922608287
current step :  15
episode :  0
reward :  0.4112732612575547
current step :  20
episode :  0
reward :  0.0
current step :  25
episode :  0
reward :  1.920737984282976
current step :  30
episode :  0
reward :  0.0
current step :  35
episode :  0
reward :  2.0638022898148787
current step :  40
episode :  0
reward :  0.8047993179033655
current step :  45
episode :  0
reward :  -10.0
current step :  50
episode :  0
reward :  1.3705574051043221
current step :  5
episode :  0
reward :  0.336547708661611
current step :  10
episode :  0
reward :  0.5029859435465487
current step :  15
episode :  0
reward :  0.9260109737372457
current step :  20
episode :  0
reward :  0.2511526619776691
current step :  25
episode :  0
reward :  1.5249013918394938
current step :  30
episode :  0
reward :  0.0
current step :  35
episode :  0
reward :  0.30335908924727517
current step :  40
episode :  0
reward :  1.4314562849868782
current step :  45
episode :  0
reward :  1.033114836484221
current step :  50
episode :  0
reward :  1.815582868172581
current step :  55
episode :  0
reward :  1.440327998181142
current step :  60
episode :  0
reward :  1.916140674815143
current step :  65
episode :  0
reward :  2.0366600174188547
current step :  70
episode :  0
reward :  1.9661511513232122
current step :  75
episode :  0
reward :  2.294999280433729
current step :  80
episode :  0
reward :  3.066665055326734
current step :  85
episode :  0
reward :  0.0
current step :  90
episode :  0
reward :  4.425703399745947
current step :  95
episode :  0
reward :  0.2707208364857469
current step :  100
episode :  0
reward :  0.0
current step :  105
episode :  0
reward :  0.3550834225751587
current step :  110
episode :  0
reward :  0.4929658660009375
current step :  115
episode :  0
reward :  0.6423175939827519
current step :  120
episode :  0
reward :  0.0
current step :  125
episode :  0
reward :  0.0
current step :  130
episode :  0
reward :  0.0
current step :  135
episode :  0
reward :  0.0
current step :  140
episode :  0
reward :  0.0
current step :  145
episode :  0
reward :  0.0
current step :  150
episode :  1
reward :  0.0
current step :  5
episode :  1
reward :  0.0
current step :  10
episode :  1
reward :  0.0
current step :  15
episode :  1
reward :  4.3204599254972
current step :  20
episode :  1
reward :  3.395674127642593
current step :  25
episode :  1
reward :  0.0
current step :  30
episode :  1
reward :  0.2525228426494268
current step :  35
episode :  1
reward :  0.0
current step :  40
episode :  1
reward :  0.8140034968735754
current step :  45
episode :  1
reward :  2.7877366722637875
current step :  50
episode :  1
reward :  1.3358384216759411
current step :  55
episode :  1
reward :  3.1685196076661493
current step :  60
episode :  1
reward :  1.59584225387844
current step :  65
episode :  1
reward :  2.2991883707361893
current step :  70
episode :  1
reward :  1.0099537880698253
current step :  75
episode :  1
reward :  0.3080070739569318
current step :  80
episode :  1
reward :  2.5848052596039994
current step :  85
episode :  1
reward :  0.31099102828778485
current step :  90
episode :  1
reward :  2.0782917438283066
current step :  95
episode :  1
reward :  0.35227804826127096
current step :  100
episode :  1
reward :  0.0
current step :  105
episode :  1
reward :  0.0
current step :  110
episode :  1
reward :  0.6000280913169177
current step :  115
episode :  1
reward :  0.39810005944592775
current step :  120
episode :  1
reward :  0.0
current step :  125
episode :  1
reward :  0.0
current step :  130
episode :  1
reward :  0.721336908894078
current step :  135
episode :  1
reward :  5.079623247979565
current step :  140
episode :  1
reward :  0.0
current step :  145
episode :  1
reward :  0.0
current step :  150
episode :  2
reward :  0.0
current step :  5
episode :  2
reward :  2.296039161791814
current step :  10
episode :  2
reward :  0.0
current step :  15
episode :  2
reward :  0.0
current step :  20
episode :  2
reward :  0.6951533787689701
current step :  25
episode :  2
reward :  1.8410892229825593
current step :  30
episode :  2
reward :  0.0
current step :  35
episode :  2
reward :  0.28556578655685916
current step :  40
episode :  2
reward :  0.3419037364036453
current step :  45
episode :  2
reward :  0.9152196892072288
current step :  50
episode :  2
reward :  1.203288666900331
current step :  55
episode :  2
reward :  1.4614200089579577
current step :  60
episode :  2
reward :  2.142710433767873
current step :  65
episode :  2
reward :  1.8034742215771535
current step :  70
episode :  2
reward :  0.9380586984574402
current step :  75
episode :  2
reward :  0.29342260067420417
current step :  80
episode :  2
reward :  0.0
current step :  85
episode :  2
reward :  0.0
current step :  90
episode :  2
reward :  3.598843551704811
current step :  95
episode :  2
reward :  0.0
current step :  100
episode :  2
reward :  0.0
current step :  105
episode :  2
reward :  1.7514857090349623
current step :  110
episode :  2
reward :  1.7001927295353698
current step :  115
episode :  2
reward :  6.522261501019648
current step :  120
episode :  2
reward :  1.5608791853562431
current step :  125
episode :  2
reward :  5.8459844454418715
current step :  130
episode :  2
reward :  0.0
current step :  135
episode :  2
reward :  5.7176504503542125
current step :  140
episode :  2
reward :  3.373401357795009
current step :  145
episode :  2
reward :  1.7343823682525499
current step :  150
episode :  3
reward :  0.0
current step :  5
episode :  3
reward :  0.0
current step :  10
episode :  3
reward :  0.2739223222076816
current step :  15
episode :  3
reward :  2.5850198642627307
current step :  20
episode :  3
reward :  0.8153926894357316
current step :  25
episode :  3
reward :  0.0
current step :  30
episode :  3
reward :  0.0
current step :  35
episode :  3
reward :  0.0
current step :  40
episode :  3
reward :  1.018584790941063
current step :  45
episode :  3
reward :  2.433606939670588
current step :  50
episode :  3
reward :  1.2889448736440419
current step :  55
episode :  3
reward :  1.4809401470062187
current step :  60
episode :  3
reward :  1.9951427460243427
current step :  65
episode :  3
reward :  2.0555309717553865
current step :  70
episode :  3
reward :  2.062491586685999
current step :  75
episode :  3
reward :  1.4221943269884316
current step :  80
episode :  3
reward :  0.263302267525163
current step :  85
episode :  3
reward :  0.0
current step :  90
episode :  3
reward :  1.996980827303251
current step :  95
episode :  3
reward :  0.8375806593685771
current step :  100
episode :  3
reward :  0.0
current step :  105
episode :  3
reward :  0.0
current step :  110
episode :  3
reward :  0.9511539083419069
current step :  115
episode :  3
reward :  1.6208782468627725
current step :  120
episode :  3
reward :  0.0
current step :  125
episode :  3
reward :  0.0
current step :  130
episode :  3
reward :  1.2090835911746343
current step :  135
episode :  3
reward :  0.0
current step :  140
episode :  3
reward :  0.0
current step :  145
episode :  3
reward :  0.0
current step :  150
episode :  4
reward :  1.463638670455136
current step :  5
episode :  4
reward :  0.0
current step :  10
episode :  4
reward :  4.302892831838894
current step :  15
episode :  4
reward :  5.196552220493138
current step :  20
episode :  4
reward :  1.210339787645148
current step :  25
episode :  4
reward :  0.6042105234789867
current step :  30
episode :  4
reward :  0.31398211620788036
current step :  35
episode :  4
reward :  2.4967085854455426
current step :  40
episode :  4
reward :  2.5465119143620054
current step :  45
episode :  4
reward :  1.1864857789746162
current step :  50
episode :  4
reward :  1.493161474152891
current step :  55
episode :  4
reward :  2.323242679753018
current step :  60
episode :  4
reward :  2.537452724247916
current step :  65
episode :  4
reward :  2.0273211446612116
current step :  70
episode :  4
reward :  2.420507088714225
current step :  75
episode :  4
reward :  1.1477072174400396
current step :  80
episode :  4
reward :  0.0
current step :  85
episode :  4
reward :  3.295033107994766
current step :  90
episode :  4
reward :  0.0
current step :  95
episode :  4
reward :  0.0
current step :  100
episode :  4
reward :  0.0
current step :  105
episode :  4
reward :  0.26597847870002866
current step :  110
episode :  4
reward :  1.087221128216008
current step :  115
episode :  4
reward :  0.0
current step :  120
episode :  4
reward :  0.6991396901315028
current step :  125
episode :  4
reward :  0.0
current step :  130
episode :  4
reward :  0.0
current step :  135
episode :  4
reward :  0.2831817507760603
current step :  140
episode :  4
reward :  0.0
current step :  145
episode :  4
reward :  0.7629233541511677
current step :  150
episode :  5
reward :  3.2566780361411634
current step :  5
episode :  5
reward :  0.275190000323523
current step :  10
episode :  5
reward :  0.8510274746200595
current step :  15
episode :  5
reward :  1.026710114991525
current step :  20
episode :  5
reward :  0.2791559612238012
current step :  25
episode :  5
reward :  0.0
current step :  30
episode :  5
reward :  0.0
current step :  35
episode :  5
reward :  0.25125715823761446
current step :  40
episode :  5
reward :  1.5074234966768034
current step :  45
episode :  5
reward :  1.168935728284112
current step :  50
episode :  5
reward :  1.2869213040356065
current step :  55
episode :  5
reward :  1.6957171991035742
current step :  60
episode :  5
reward :  2.1010091663084802
current step :  65
episode :  5
reward :  2.269100761480213
current step :  70
episode :  5
reward :  2.1938433803736275
current step :  75
episode :  5
reward :  2.177784638499016
current step :  80
episode :  5
reward :  0.0
current step :  85
episode :  5
reward :  0.0
current step :  90
episode :  5
reward :  0.30363195161025003
current step :  95
episode :  5
reward :  0.0
current step :  100
episode :  5
reward :  0.0
current step :  105
episode :  5
reward :  0.0
current step :  110
episode :  5
reward :  0.9940068762864009
current step :  115
episode :  5
reward :  0.2563966417560387
current step :  120
episode :  5
reward :  0.0
current step :  125
episode :  5
reward :  0.0
current step :  130
episode :  5
reward :  0.3061643468622598
current step :  135
episode :  5
reward :  0.0
current step :  140
episode :  5
reward :  0.5701198720842128
current step :  145
episode :  5
reward :  0.0
current step :  150
episode :  6
reward :  2.286536425221185
current step :  5
episode :  6
reward :  0.0
current step :  10
episode :  6
reward :  1.776771683657417
current step :  15
episode :  6
reward :  0.0
current step :  20
episode :  6
reward :  0.5226975319663635
current step :  25
episode :  6
reward :  0.0
current step :  30
episode :  6
reward :  0.0
current step :  35
episode :  6
reward :  2.7124791880598407
current step :  40
episode :  6
reward :  1.073054762591342
current step :  45
episode :  6
reward :  1.2973554735976178
current step :  50
episode :  6
reward :  1.3682584899805141
current step :  55
episode :  6
reward :  1.4756463577984993
current step :  60
episode :  6
reward :  1.2601936188981062
current step :  65
episode :  6
reward :  1.8823080064179392
current step :  70
episode :  6
reward :  0.9600388843403282
current step :  75
episode :  6
reward :  0.30051008299914395
current step :  80
episode :  6
reward :  0.0
current step :  85
episode :  6
reward :  0.0
current step :  90
episode :  6
reward :  0.9176342177049623
current step :  95
episode :  6
reward :  0.0
current step :  100
episode :  6
reward :  0.5047248942305624
current step :  105
episode :  6
reward :  0.0
current step :  110
episode :  6
reward :  0.0
current step :  115
episode :  6
reward :  0.0
current step :  120
episode :  6
reward :  0.0
current step :  125
episode :  6
reward :  3.952219992805772
current step :  130
episode :  6
reward :  0.0
current step :  135
episode :  6
reward :  3.0160067709260687
current step :  140
episode :  6
reward :  0.0
current step :  145
episode :  6
reward :  2.3478814494128413
current step :  150
episode :  7
reward :  0.0
current step :  5
episode :  7
reward :  4.368128677843829
current step :  10
episode :  7
reward :  0.0
current step :  15
episode :  7
reward :  3.9457300371681567
current step :  20
episode :  7
reward :  3.252479006151476
current step :  25
episode :  7
reward :  0.0
current step :  30
episode :  7
reward :  0.0
current step :  35
episode :  7
reward :  0.0
current step :  40
episode :  7
reward :  0.33046411904720674
current step :  45
episode :  7
reward :  1.0313396659001188
current step :  50
episode :  7
reward :  1.481415741576892
current step :  55
episode :  7
reward :  1.5431506786734837
current step :  60
episode :  7
